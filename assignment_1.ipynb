{
 "cells": [
  {
   "cell_type": "raw",
   "metadata": {
    "vscode": {
     "languageId": "raw"
    }
   },
   "source": [
    "---\n",
    "title: \"Assignment 1\"\n",
    "subtitle: \"STAT 201\"\n",
    "author: \"Muzi Dang\"\n",
    "format:\n",
    "  html:\n",
    "    toc: true\n",
    "    embed-resources: true\n",
    "jupyter: python3\n",
    "---"
   ]
  },
  {
   "cell_type": "markdown",
   "metadata": {},
   "source": [
    "## Instructions {-}\n",
    "\n",
    "1. **Write your name** on the assignment.\n",
    "\n",
    "2. Write your code in the *Code* cells of the **template provided** to write solutions for the assignment. **Do not open a new notebook**, and work from scratch. Ensure that the solution is written neatly enough to understand and grade.\n",
    "\n",
    "3. Use [Quarto](https://quarto.org/docs/output-formats/html-basics.html) to print the *.ipynb* file as HTML. You will need to open the command prompt, navigate to the directory containing the file, and use the command: `quarto render filename.ipynb --to html`. Submit the HTML file.\n",
    "\n",
    "4. You may talk to a friend, discuss the questions and potential directions for solving them. However, you need to write your own solutions and code separately, and not as a group activity. Do not use AI to solve the problems.\n",
    "\n",
    "5. If your document is not clean and organized, you can lose up to 2 points:\n",
    "\n",
    "    - Must be an HTML file rendered using Quarto. \n",
    "    - There aren’t excessively long outputs of extraneous information (e.g. no printouts of unnecessary results without good reason, there aren’t long printouts of which iteration a loop is on, there aren’t long sections of commented-out code, etc.). There is no piece of unnecessary / redundant code, and no unnecessary / redundant text\n",
    "    - The code follows the [python style guide](https://peps.python.org/pep-0008/) for naming variables, spaces, indentation, etc.\n",
    "    - The code should be commented and clearly written with intuitive variable names. For example, use variable names such as number_input, factor, hours, instead of a,b,xyz, etc.\n",
    "\n",
    "6. If your document does not include the output of your code, you may lose up to 5 points."
   ]
  },
  {
   "cell_type": "markdown",
   "metadata": {},
   "source": [
    "## Question 1 (4 points)"
   ]
  },
  {
   "cell_type": "markdown",
   "metadata": {},
   "source": [
    "a) Create a a variable called `var_float` that contains a decimal number."
   ]
  },
  {
   "cell_type": "code",
   "execution_count": 1,
   "metadata": {},
   "outputs": [],
   "source": [
    "var_float = 1.5"
   ]
  },
  {
   "cell_type": "markdown",
   "metadata": {},
   "source": [
    "b) Store a sentence as `var_sent` that reads exactly as follows: \"The square of `{}` is `{}`.\" Where the first `{}` is your `var_float` and the second `{}` is the square of that variable. Print your sentence."
   ]
  },
  {
   "cell_type": "code",
   "execution_count": 2,
   "metadata": {},
   "outputs": [
    {
     "name": "stdout",
     "output_type": "stream",
     "text": [
      "The square of 1.5 is 2.25.\n"
     ]
    }
   ],
   "source": [
    "var_sent = \"The square of {} is {}.\"\n",
    "print(var_sent.format(var_float,var_float * var_float))"
   ]
  },
  {
   "cell_type": "markdown",
   "metadata": {},
   "source": [
    "c) Print the output of using the `count` **method** to determine how many spaces are in `var_sent`."
   ]
  },
  {
   "cell_type": "code",
   "execution_count": 3,
   "metadata": {},
   "outputs": [
    {
     "name": "stdout",
     "output_type": "stream",
     "text": [
      "5\n"
     ]
    }
   ],
   "source": [
    "print(var_sent.count(\" \"))"
   ]
  },
  {
   "cell_type": "markdown",
   "metadata": {},
   "source": [
    "d) Round your `var_float` to 0 decimal places and convert to an integer. Store this as `var_int` and print the `type` to verify this was done correctly."
   ]
  },
  {
   "cell_type": "code",
   "execution_count": 4,
   "metadata": {},
   "outputs": [
    {
     "name": "stdout",
     "output_type": "stream",
     "text": [
      "<class 'int'>\n"
     ]
    }
   ],
   "source": [
    "var_int = int(round(var_float,0))\n",
    "\n",
    "print(type(var_int))"
   ]
  },
  {
   "cell_type": "markdown",
   "metadata": {},
   "source": [
    "## Question 2 (3 points)"
   ]
  },
  {
   "cell_type": "markdown",
   "metadata": {},
   "source": [
    "Have a user input 2 Booleans (hint: must be type bool). In a **single print line**, using only `and`, `or`, `not` functions, have the output return True if both variables are the same, and False is they are different. \n",
    "\n",
    "Clarification: 1) cannot use conditional if statements 2) this must be capable of printing the correct output for any possible booleans the user could enter, not just the one example that your html will show."
   ]
  },
  {
   "cell_type": "code",
   "execution_count": 9,
   "metadata": {},
   "outputs": [
    {
     "name": "stdout",
     "output_type": "stream",
     "text": [
      "False\n"
     ]
    }
   ],
   "source": [
    "# with bonus try-except and loop \n",
    "\n",
    "def input_function(question):\n",
    "    while True:\n",
    "        try:\n",
    "            user_input = input(question).strip().upper()\n",
    "            if user_input == \"TRUE\":\n",
    "                return True\n",
    "            elif user_input == \"FALSE\":\n",
    "                return False\n",
    "            else:\n",
    "                print(\"Invalid input. Please enter either True or False.\")\n",
    "        except Exception as e:\n",
    "            print(f\"An unexpected error occurred: {e}\")\n",
    "\n",
    "bool_1 = input_function(\"Please enter either True or False: \")\n",
    "bool_2 = input_function(\"Please enter either True or False again; your selection does not have to match your previous selection: \")\n",
    "\n",
    "print((bool_1 and bool_2) or (not bool_1 and not bool_2))\n",
    "\n",
    "# The example I used was \"True\" and \"False\"; the output is \"False\""
   ]
  },
  {
   "cell_type": "markdown",
   "metadata": {},
   "source": [
    "## Question 3 (6 points)"
   ]
  },
  {
   "cell_type": "markdown",
   "metadata": {},
   "source": [
    "At Northwestern, email addresses are classified as follows:\n",
    "\n",
    "- **Student email addresses** end with `@u.northwestern.edu`.\n",
    "- **Professor email addresses** end with `@northwestern.edu` (but not `@u.northwestern.edu`).\n",
    "\n",
    "Write a Python program that:\n",
    "1. Asks the user how many email addresses they will enter.\n",
    "2. Prompts the user to input each email address.\n",
    "3. After all email addresses are entered:\n",
    "   - Print all professor email addresses under the heading `\"Professor Emails:\"`.\n",
    "   - Print all student email addresses under the heading `\"Student Emails:\"`.\n",
    "   - If no professor or student emails were entered, print `\"None\"` under the respective heading.\n",
    "\n",
    "### Requirements:\n",
    "- Do not use lists or other advanced data structures, since we have not covered them yet.\n",
    "- Use only basic string operations and loops.\n",
    "- **The program must handle all cases**, regardless of uppercase or lowercase in the email addresses.\n",
    "- **Trim any leading or trailing whitespace** in the user input before classifying the email.\n",
    "\n",
    "**Example Run:**\n",
    "\n",
    "How many email addresses will you be entering? 3 <br>\n",
    "Enter an email address: lshi@northwestern.edu  <br>\n",
    "Enter an email address: jackyu@u.northwestern.edu  <br>\n",
    "Enter an email address:   Alexa@u.northwestern.edu  <br>\n",
    "\n",
    "**Output:**\n",
    "\n",
    "Professor Emails: <br>\n",
    "lshi@northwestern.edu <br>\n",
    "\n",
    "Student Emails: <br>\n",
    "jackyu@u.northwestern.edu <br>\n",
    "alexa@u.northwestern.edu <br>\n"
   ]
  },
  {
   "cell_type": "code",
   "execution_count": 46,
   "metadata": {},
   "outputs": [
    {
     "name": "stdout",
     "output_type": "stream",
     "text": [
      "Professor Emails: \n",
      "lshi@northwestern.edu\n",
      "\n",
      "Student Emails: \n",
      "jackyu@u.northwestern.edu\n",
      "alexa@u.northwestern.edu\n",
      "\n"
     ]
    }
   ],
   "source": [
    "# bonus\n",
    "\n",
    "while True:\n",
    "    try:\n",
    "        email_num = int(input(\"How many email addresses will you be entering?\"))\n",
    "        break\n",
    "    except ValueError:\n",
    "        print(\"Invalid input. Please enter a number.\")\n",
    "\n",
    "def email_check(question):\n",
    "    while True:\n",
    "        try:\n",
    "            email = (input(question)).strip().lower()\n",
    "            if email.endswith(\"@northwestern.edu\") or email.endswith(\"@u.northwestern.edu\"):\n",
    "                return email\n",
    "            else:\n",
    "                print(\"Invalid input. Please enter a valid email.\")\n",
    "        except Exception as e:\n",
    "            print(f\"An unexpected error occurred: {e}\")\n",
    "\n",
    "professor_email = \"\"\n",
    "student_email = \"\"\n",
    "\n",
    "for i in range(email_num):\n",
    "    email = email_check(\"Please input email:\")\n",
    "    if email.endswith(\"@northwestern.edu\"):\n",
    "        professor_email += email + \"\\n\"\n",
    "    elif email.endswith(\"@u.northwestern.edu\"):\n",
    "        student_email += email + \"\\n\"\n",
    "\n",
    "\n",
    "if bool(professor_email) == True:\n",
    "    print(\"Professor Emails: \\n\" + professor_email)\n",
    "else:\n",
    "    print(\"Professor Emails: \\n\" + \"None\")\n",
    "\n",
    "if bool(student_email) == True:\n",
    "    print(\"Student Emails: \\n\" + student_email)\n",
    "else: \n",
    "    print(\"Student Emails: \\n\" + \"None\")\n"
   ]
  },
  {
   "cell_type": "markdown",
   "metadata": {},
   "source": [
    "## Question 4 (3 points)"
   ]
  },
  {
   "cell_type": "markdown",
   "metadata": {},
   "source": [
    "Write a tip calculator program that asks the user for the price of the meal and the percent tip they want to leave. Then print a sentence that displays both the tip amount and total bill. Example if meal price is 25 dollars and tip is 15 percent:\n",
    "                                   \n",
    "                                   Your tip amount is $3.75 and your total bill is $28.75."
   ]
  },
  {
   "cell_type": "code",
   "execution_count": 16,
   "metadata": {},
   "outputs": [
    {
     "name": "stdout",
     "output_type": "stream",
     "text": [
      "Your tip amount is $ 3.75 and your total bill is $ 28.75 .\n"
     ]
    }
   ],
   "source": [
    "# bonus\n",
    "def number_check(question):\n",
    "    while True:\n",
    "        try:\n",
    "            num = float(input(question))\n",
    "            return num\n",
    "        except ValueError:\n",
    "            print(\"Invalid input. Please enter a number.\")\n",
    "\n",
    "meal_price = number_check(\"Please enter the price of meal in number: ($)\")\n",
    "tip_percent = number_check(\"Please enter the percent tip in number: (%)\")\n",
    "tip_amount = round((meal_price * tip_percent / 100), 2)\n",
    "total_bill = round((meal_price + tip_amount), 2)\n",
    "print(\"Your tip amount is $\", str(tip_amount), \"and your total bill is $\", str(total_bill), \".\")"
   ]
  },
  {
   "cell_type": "markdown",
   "metadata": {},
   "source": [
    "## Question 5 (3 points)"
   ]
  },
  {
   "cell_type": "markdown",
   "metadata": {},
   "source": [
    "Write a program that asks the user for a number of seconds and prints out how many minutes and seconds that is. Example:\n",
    "\n",
    "                                    200 seconds is 3 minutes and 20 seconds.\n",
    "                                               \n",
    "**Use only two lines of code for this question: one line for the input and one line for the print.** "
   ]
  },
  {
   "cell_type": "code",
   "execution_count": 21,
   "metadata": {},
   "outputs": [
    {
     "name": "stdout",
     "output_type": "stream",
     "text": [
      "200  seconds is  3  minutes and  20 seconds.\n"
     ]
    }
   ],
   "source": [
    "# bonus\n",
    "def seconds_check(question):\n",
    "    while True:\n",
    "        try:\n",
    "            num = int(input(question))\n",
    "            return num\n",
    "        except ValueError:\n",
    "            print(\"Invalid input. Please enter a number.\")\n",
    "    \n",
    "seconds = seconds_check(\"Please input a number of seconds:\")\n",
    "print(seconds, \" seconds is \", int(seconds/60), \" minutes and \", seconds % 60, \"seconds.\")"
   ]
  },
  {
   "cell_type": "markdown",
   "metadata": {},
   "source": [
    "## Question 6 (4 points)"
   ]
  },
  {
   "cell_type": "markdown",
   "metadata": {},
   "source": [
    "Write a program that asks the user to enter two numbers. Have the program return one of the following messages depending on which criteria is met. \n",
    "\n",
    "\"`num1` is greater than `num2`\"; \"`num 1` is less than `num2`\"; \"`num1` is equal to `num2`\"; where `num1` and `num2` are the user inputed values.\n",
    "\n",
    "Show the output of the program with any two numbers of your choice."
   ]
  },
  {
   "cell_type": "code",
   "execution_count": 23,
   "metadata": {},
   "outputs": [
    {
     "name": "stdout",
     "output_type": "stream",
     "text": [
      "2.9  is less than  3.8\n"
     ]
    }
   ],
   "source": [
    "# bonus\n",
    "\n",
    "def num_check(question):\n",
    "    while True:\n",
    "        try:\n",
    "            num = float(input(question))\n",
    "            return num\n",
    "        except ValueError:\n",
    "            print(\"Invalid input. Please enter a number.\")\n",
    "\n",
    "num1= num_check(\"Please enter a number\") \n",
    "num2= num_check(\"Please enter a second number\")\n",
    "if num1 > num2:\n",
    "    print(num1, \" is greater than \", num2)\n",
    "elif num1 < num2:\n",
    "    print(num1, \" is less than \", num2)\n",
    "else:\n",
    "    print(num1, \" is equal to \", num2)\n"
   ]
  },
  {
   "cell_type": "markdown",
   "metadata": {},
   "source": [
    "## Question 7 (4 points)"
   ]
  },
  {
   "cell_type": "markdown",
   "metadata": {},
   "source": [
    "a) Use a **single if-elif-else** statement to print the smallest of 3 user defined numbers. Show the output of the program with any three numbers of your choice."
   ]
  },
  {
   "cell_type": "code",
   "execution_count": 28,
   "metadata": {},
   "outputs": [
    {
     "name": "stdout",
     "output_type": "stream",
     "text": [
      "The smallest of 3 numbers is  1.3\n"
     ]
    }
   ],
   "source": [
    "# bonus\n",
    "def num_check(question):\n",
    "    while True:\n",
    "        try:\n",
    "            num = float(input(question))\n",
    "            return num\n",
    "        except ValueError:\n",
    "            print(\"Invalid input. Please enter a number.\")\n",
    "\n",
    "num1= num_check(\"Please enter a number\")\n",
    "num2= num_check(\"Please enter a second number\")\n",
    "num3= num_check(\"Please enter a third number\")\n",
    "\n",
    "if num1<=num2 and num1<=num3:\n",
    "    print(\"The smallest of 3 numbers is \", num1)\n",
    "elif num2<=num1 and num2<=num3:\n",
    "    print(\"The smallest of 3 numbers is \", num2)\n",
    "else:\n",
    "    print(\"The smallest of 3 numbers is \", num3)\n",
    "\n",
    "# example numbers I entered are 1.3,2.3,3.3"
   ]
  },
  {
   "cell_type": "markdown",
   "metadata": {},
   "source": [
    "b) Use a **nested** conditional statement to print the smallest of 3 user defined numbers. Show the output of the program with any three numbers of your choice."
   ]
  },
  {
   "cell_type": "code",
   "execution_count": 41,
   "metadata": {},
   "outputs": [
    {
     "name": "stdout",
     "output_type": "stream",
     "text": [
      "The smallest of 3 numbers is  4.1\n"
     ]
    }
   ],
   "source": [
    "# bonus\n",
    "\n",
    "def num_check(question):\n",
    "    while True:\n",
    "        try:\n",
    "            num = float(input(question))\n",
    "            return num\n",
    "        except ValueError:\n",
    "            print(\"Invalid input. Please enter a number.\")\n",
    "\n",
    "num1= num_check(\"Please enter a number\")\n",
    "num2= num_check(\"Please enter a second number\")\n",
    "num3= num_check(\"Please enter a third number\")\n",
    "\n",
    "if num1<=num2:\n",
    "    if num1<=num3:\n",
    "        print(\"The smallest of 3 numbers is \", num1)\n",
    "    else:\n",
    "        print(\"The smallest of 3 numbers is \", num3)\n",
    "else:\n",
    "    if num2<=num3:\n",
    "        print(\"The smallest of 3 numbers is \", num2)\n",
    "    else:\n",
    "        print(\"The smallest of 3 numbers is \", num3)\n",
    "\n",
    "# example numbers I entered are 6.1,5.1,4.1"
   ]
  },
  {
   "cell_type": "markdown",
   "metadata": {},
   "source": [
    "## Question 8 (6 points)"
   ]
  },
  {
   "cell_type": "markdown",
   "metadata": {},
   "source": [
    "Write a program that asks the user to enter either rock, paper, or scissors. Use a conditional statement to determine if the user wins, loses, or ties the computer at the game \"Rock, Paper, Scissors\". Note: rock beats scissors; scissors beats paper; paper beats rock\n",
    "\n",
    "Print a meaningful sentence that includes the winner, the computer's choice, and the user's choice.\n",
    "\n",
    "- Handle case sensitivity (example: if the user enters Rock, it will still run). \n",
    "- If the user enters a word other than one of the choices, print \"Invalid choice.\". \n",
    "- Show the output of the program when the user enters Rock (capitalized)"
   ]
  },
  {
   "cell_type": "code",
   "execution_count": 42,
   "metadata": {},
   "outputs": [
    {
     "name": "stdout",
     "output_type": "stream",
     "text": [
      "You choose Rock and the computer chooses scissors . The user wins.\n"
     ]
    }
   ],
   "source": [
    "# bonus\n",
    "\n",
    "# starter code to generate a random choice of rock, paper, scissors\n",
    "import random as rm\n",
    "comp_choice = rm.choice(['rock', 'paper', 'scissors'])\n",
    "\n",
    "# your solution in this code chunk below\n",
    "while True:\n",
    "    try:\n",
    "        user_choice = str(input(\"Please enter rock, paper, or scissors:\"))\n",
    "        if user_choice.lower() == \"rock\" or user_choice.lower() == \"paper\" or user_choice.lower() == \"scissors\":\n",
    "            break\n",
    "        else:\n",
    "            print(\"Invalid choice; try again by entering rock, paper, or scissors\")\n",
    "    except Exception as e:\n",
    "            print(f\"An unexpected error occurred: {e}\")\n",
    "\n",
    "if user_choice.lower() == \"rock\":\n",
    "    if comp_choice == \"rock\":\n",
    "        print(\"You choose\", user_choice, \"and the computer chooses\", comp_choice, \". It is a tie.\")\n",
    "    if comp_choice == \"paper\":\n",
    "        print(\"You choose\", user_choice, \"and the computer chooses\", comp_choice, \". The computer wins.\")\n",
    "    if comp_choice == \"scissors\":\n",
    "        print(\"You choose\", user_choice, \"and the computer chooses\", comp_choice, \". The user wins.\")\n",
    "elif user_choice.lower() == \"paper\":\n",
    "    if comp_choice == \"rock\":\n",
    "        print(\"You choose\", user_choice, \"and the computer chooses\", comp_choice, \". The user wins.\")\n",
    "    if comp_choice == \"paper\":\n",
    "        print(\"You choose\", user_choice, \"and the computer chooses\", comp_choice, \". It is a tie.\")\n",
    "    if comp_choice == \"scissors\":\n",
    "        print(\"You choose\", user_choice, \"and the computer chooses\", comp_choice, \". The computer wins.\")\n",
    "elif user_choice.lower() == \"scissors\":\n",
    "    if comp_choice == \"rock\":\n",
    "        print(\"You choose\", user_choice, \"and the computer chooses\", comp_choice, \". The computer wins.\")\n",
    "    if comp_choice == \"paper\":\n",
    "        print(\"You choose\", user_choice, \"and the computer chooses\", comp_choice, \". The user wins.\")\n",
    "    if comp_choice == \"scissors\":\n",
    "        print(\"You choose\", user_choice, \"and the computer chooses\", comp_choice, \". It is a tie.\")\n",
    "else: \n",
    "    print(\"You choose\", user_choice, \"and the computer chooses\", comp_choice, \". Invalid choice.\")\n",
    "\n",
    "# Showing the output of the program when the user enters \"Rock\" (capitalized)"
   ]
  },
  {
   "cell_type": "markdown",
   "metadata": {},
   "source": [
    "## Bonus (6 points)\n",
    "\n",
    "FFor all questions in this assignment that involve accepting user input:\n",
    "\n",
    "- Use a **`try-except` block** to handle cases where the user may enter invalid input (e.g., non-numeric values).\n",
    "- Implement a **loop** that repeatedly prompts the user until a valid value is provided, so the program can proceed safely.\n",
    "- To receive credit, you must **revise each applicable question** by modifying your code to include both the input loop and error handling directly in that question’s solution.\n",
    "\n",
    "Each revised question is worth **1 point**."
   ]
  },
  {
   "cell_type": "markdown",
   "metadata": {},
   "source": [
    "Hi, I noticed that the prompt says \"revise each applicable question by modifying your code\" \"directly in that question’s solution\", so I edited my original code. Therefore, 6 questions out of 8 above have incorporated the bonus elements and thus are slightly different from the original versions. Thank you!"
   ]
  }
 ],
 "metadata": {
  "kernelspec": {
   "display_name": ".venv",
   "language": "python",
   "name": "python3"
  },
  "language_info": {
   "codemirror_mode": {
    "name": "ipython",
    "version": 3
   },
   "file_extension": ".py",
   "mimetype": "text/x-python",
   "name": "python",
   "nbconvert_exporter": "python",
   "pygments_lexer": "ipython3",
   "version": "3.13.2"
  }
 },
 "nbformat": 4,
 "nbformat_minor": 4
}
